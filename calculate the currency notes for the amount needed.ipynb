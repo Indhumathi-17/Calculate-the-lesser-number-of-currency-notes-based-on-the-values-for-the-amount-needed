{
  "nbformat": 4,
  "nbformat_minor": 0,
  "metadata": {
    "colab": {
      "provenance": []
    },
    "kernelspec": {
      "name": "python3",
      "display_name": "Python 3"
    },
    "language_info": {
      "name": "python"
    }
  },
  "cells": [
    {
      "cell_type": "code",
      "execution_count": 2,
      "metadata": {
        "colab": {
          "base_uri": "https://localhost:8080/"
        },
        "id": "P9e5cKEg_DM6",
        "outputId": "c35c18d5-5c52-476e-9ec1-3a2b2d4a3c9c"
      },
      "outputs": [
        {
          "output_type": "stream",
          "name": "stdout",
          "text": [
            "enter the amount 24337\n",
            "24337\n",
            "12 Two thousand Rupees\n",
            "0 Five hundred Rupees\n",
            "1 Two hundred Rupees\n",
            "1 One hundred Rupees\n",
            "0 Fifty Rupees\n",
            "1 Twenty Rupees\n",
            "1 Ten Rupees\n",
            "1 Five Rupees\n",
            "1 Two Rupees\n",
            "0 One Rupee\n"
          ]
        }
      ],
      "source": [
        "#each possible currency values were given each variable\n",
        "a,b,c,d,e,f,g,h,i,j = (2000,500,200,100,50,20,10,5,2,1)\n",
        "#with input we can get the amount details\n",
        "n = int(input('enter the amount '))\n",
        "print(n)\n",
        "#floor division '//' gets the roundoff to the nearest value of the division btw 1st and 2nd number\n",
        "first_amt = n//a\n",
        "print(first_amt,'Two thousand Rupees')\n",
        "balance = n%a \n",
        "sec_amt = balance // b\n",
        "print (sec_amt,'Five hundred Rupees')\n",
        "balance1 = balance % b\n",
        "third_amt = balance1 // c\n",
        "print (third_amt, 'Two hundred Rupees')\n",
        "balance2 = balance1 % c\n",
        "fourth_amt = balance2 // d\n",
        "print (fourth_amt,'One hundred Rupees')\n",
        "balance3 = balance2 % d \n",
        "fifth_amt = balance3 // e\n",
        "print (fifth_amt, 'Fifty Rupees')\n",
        "balance4 = balance3 % e\n",
        "sixth_amt = balance4 // f\n",
        "print (sixth_amt,'Twenty Rupees')\n",
        "balance5 = balance4 % f\n",
        "seventh_amt = balance5 // g\n",
        "print (seventh_amt, 'Ten Rupees')\n",
        "balance6 = balance5 % g\n",
        "eighth_amt = balance6 // h\n",
        "print (eighth_amt,'Five Rupees')\n",
        "balance7 = balance6 % h\n",
        "ninth_amt = balance7 // i\n",
        "print(ninth_amt,'Two Rupees')\n",
        "balance8 = balance7 % i\n",
        "tenth_amt = balance8 // j\n",
        "print (tenth_amt,'One Rupee')\n",
        "#with help of floor division we can get the number of currency notes and with division we calculate the values of currencies for the amount needed"
      ]
    }
  ]
}